{
 "cells": [
  {
   "cell_type": "code",
   "execution_count": null,
   "metadata": {
    "application/vnd.databricks.v1+cell": {
     "cellMetadata": {
      "byteLimit": 2048000,
      "rowLimit": 10000
     },
     "inputWidgets": {},
     "nuid": "fb7e66b9-5904-4024-bbd5-eb4d3ab1ad1e",
     "showTitle": false,
     "title": ""
    }
   },
   "outputs": [],
   "source": [
    "filename = dbutils.widgets.get('filename')\n",
    "print(filename)"
   ]
  },
  {
   "cell_type": "code",
   "execution_count": null,
   "metadata": {
    "application/vnd.databricks.v1+cell": {
     "cellMetadata": {
      "byteLimit": 2048000,
      "rowLimit": 10000
     },
     "inputWidgets": {},
     "nuid": "c03a0cbe-46ef-4b3a-adfa-d14586736e88",
     "showTitle": false,
     "title": ""
    }
   },
   "outputs": [],
   "source": [
    "storage_access_key = dbutils.secrets.get(scope = 'databricksScope1', key='storage-access-key')"
   ]
  },
  {
   "cell_type": "code",
   "execution_count": null,
   "metadata": {
    "application/vnd.databricks.v1+cell": {
     "cellMetadata": {
      "byteLimit": 2048000,
      "rowLimit": 10000
     },
     "inputWidgets": {},
     "nuid": "83bd3594-e7ee-467b-aed5-d9292502fcf3",
     "showTitle": false,
     "title": ""
    }
   },
   "outputs": [],
   "source": [
    "alreadyMounted = False\n",
    "for x in dbutils.fs.mounts():\n",
    "    if x.mountPoint == '/mnt/sales':\n",
    "        alreadyMounted = True\n",
    "        break \n",
    "    else:\n",
    "        alreadyMounted = False\n",
    "\n",
    "if not alreadyMounted: \n",
    "    dbutils.fs.mount(\n",
    "    source = 'wasbs://sales@datalakeazureproject.blob.core.windows.net',\n",
    "    mount_point= '/mnt/sales',\n",
    "    extra_configs = {'fs.azure.account.key.datalakeazureproject.blob.core.windows.net':storage_access_key})\n",
    "    \n",
    "    alreadyMounted = True\n",
    "    print(\"mounting done successfully\")\n",
    "else:\n",
    "    print(\"Already mounted\")\n",
    "        \n"
   ]
  },
  {
   "cell_type": "code",
   "execution_count": null,
   "metadata": {
    "application/vnd.databricks.v1+cell": {
     "cellMetadata": {
      "byteLimit": 2048000,
      "rowLimit": 10000
     },
     "inputWidgets": {},
     "nuid": "c4f74161-9595-4770-bc98-93d58c383ea0",
     "showTitle": false,
     "title": ""
    }
   },
   "outputs": [],
   "source": [
    "%fs \n",
    "\n",
    "ls /mnt/sales/order_items\n",
    "\n"
   ]
  },
  {
   "cell_type": "code",
   "execution_count": null,
   "metadata": {
    "application/vnd.databricks.v1+cell": {
     "cellMetadata": {
      "byteLimit": 2048000,
      "rowLimit": 10000
     },
     "inputWidgets": {},
     "nuid": "4efcc422-e365-4309-a8e4-ba7b8af4f2dc",
     "showTitle": false,
     "title": ""
    }
   },
   "outputs": [],
   "source": [
    "orders_df = spark.read.csv(\"/mnt/sales/landing/{}\".format(filename),inferSchema=True,header=True)"
   ]
  },
  {
   "cell_type": "code",
   "execution_count": null,
   "metadata": {
    "application/vnd.databricks.v1+cell": {
     "cellMetadata": {
      "byteLimit": 2048000,
      "rowLimit": 10000
     },
     "inputWidgets": {},
     "nuid": "04965c21-553c-4712-8523-f83b8b2f9e18",
     "showTitle": false,
     "title": ""
    }
   },
   "outputs": [],
   "source": [
    "display(orders_df)"
   ]
  },
  {
   "cell_type": "code",
   "execution_count": null,
   "metadata": {
    "application/vnd.databricks.v1+cell": {
     "cellMetadata": {
      "byteLimit": 2048000,
      "rowLimit": 10000
     },
     "inputWidgets": {},
     "nuid": "1b1d48bb-70a2-472a-8118-ac96fd22a532",
     "showTitle": false,
     "title": ""
    }
   },
   "outputs": [],
   "source": [
    "#First condition check - if duplicate order_id move file to discarded else create a table\n",
    "\n",
    "errorFlg = False\n",
    "\n",
    "orders_count = orders_df.count()\n",
    "print(orders_count)\n",
    "\n",
    "orders_distinct_count = orders_df.select('order_id').distinct().count()\n",
    "print(orders_distinct_count)\n",
    "\n",
    "if orders_count != orders_distinct_count:\n",
    "    errorFlg = True\n",
    "\n",
    "if errorFlg:\n",
    "    dbutils.fs.mv('/mnt/sales/landing/{}'.format(filename),'/mnt/sales/discarded')\n",
    "    dbutils.notebook.exit('{\"errorFlg\":\"true\",\"errormsg\":\"order_id is repeated\"}')\n",
    "\n",
    "orders_df.createOrReplaceTempView('orders')\n"
   ]
  },
  {
   "cell_type": "code",
   "execution_count": null,
   "metadata": {
    "application/vnd.databricks.v1+cell": {
     "cellMetadata": {
      "byteLimit": 2048000,
      "rowLimit": 10000
     },
     "inputWidgets": {},
     "nuid": "df51195a-86d0-4048-905e-f783fa736690",
     "showTitle": false,
     "title": ""
    }
   },
   "outputs": [],
   "source": [
    "#applying second validation - to check order status is valid or not by connecting to azure sql db\n",
    "\n",
    "dbServer = 'ttsqlserver2580'\n",
    "dbPort = '1433'\n",
    "dbName = 'ttsqldb'\n",
    "dbUser = 'nithin'\n",
    "dbPassword = 'SQL-password'\n",
    "databricksScope = 'databricksScope1 '"
   ]
  },
  {
   "cell_type": "code",
   "execution_count": null,
   "metadata": {
    "application/vnd.databricks.v1+cell": {
     "cellMetadata": {
      "byteLimit": 2048000,
      "rowLimit": 10000
     },
     "inputWidgets": {},
     "nuid": "2e911933-f729-46ec-b9a4-71dd00db7f60",
     "showTitle": false,
     "title": ""
    }
   },
   "outputs": [],
   "source": [
    "connectionUrl = 'jdbc:sqlserver://{}.database.windows.net:{};database={};user={};'.format(dbServer,\n",
    "dbPort, dbName, dbUser)\n",
    "\n",
    "dbPassword =  dbutils.secrets.get(scope = databricksScope, key='SQL-password')\n",
    "\n",
    "connectionProperties = {'password': dbPassword,'driver':'com.microsoft.sqlserver.jdbc.SQLServerDriver'}"
   ]
  },
  {
   "cell_type": "code",
   "execution_count": null,
   "metadata": {
    "application/vnd.databricks.v1+cell": {
     "cellMetadata": {
      "byteLimit": 2048000,
      "rowLimit": 10000
     },
     "inputWidgets": {},
     "nuid": "adaa6f45-e5db-40bf-baf6-c3b2f291903d",
     "showTitle": false,
     "title": ""
    }
   },
   "outputs": [],
   "source": [
    "#to read the table\n",
    "\n",
    "valid_status_df = spark.read.jdbc(url =connectionUrl,table='dbo.valid_order_status',properties=connectionProperties)"
   ]
  },
  {
   "cell_type": "code",
   "execution_count": null,
   "metadata": {
    "application/vnd.databricks.v1+cell": {
     "cellMetadata": {
      "byteLimit": 2048000,
      "rowLimit": 10000
     },
     "inputWidgets": {},
     "nuid": "9e396dc9-b8c2-48c8-91aa-a48413cde274",
     "showTitle": false,
     "title": ""
    }
   },
   "outputs": [],
   "source": [
    "display(valid_status_df)"
   ]
  },
  {
   "cell_type": "code",
   "execution_count": null,
   "metadata": {
    "application/vnd.databricks.v1+cell": {
     "cellMetadata": {
      "byteLimit": 2048000,
      "rowLimit": 10000
     },
     "inputWidgets": {},
     "nuid": "1a787e3d-baf6-42b1-9da0-bdb8f75bc7c7",
     "showTitle": false,
     "title": ""
    }
   },
   "outputs": [],
   "source": [
    "valid_status_df.createOrReplaceTempView('valid_status')"
   ]
  },
  {
   "cell_type": "code",
   "execution_count": null,
   "metadata": {
    "application/vnd.databricks.v1+cell": {
     "cellMetadata": {
      "byteLimit": 2048000,
      "rowLimit": 10000
     },
     "inputWidgets": {},
     "nuid": "c07ccf8c-64a1-4b07-a0a7-49d41b0aef3d",
     "showTitle": false,
     "title": ""
    }
   },
   "outputs": [],
   "source": [
    "invalidRowsdf = spark.sql(\"select * from orders where order_status not in (select * from valid_status)\")"
   ]
  },
  {
   "cell_type": "code",
   "execution_count": null,
   "metadata": {
    "application/vnd.databricks.v1+cell": {
     "cellMetadata": {
      "byteLimit": 2048000,
      "rowLimit": 10000
     },
     "inputWidgets": {},
     "nuid": "8256234a-44ba-409f-b947-85e578793da0",
     "showTitle": false,
     "title": ""
    }
   },
   "outputs": [],
   "source": [
    "display(invalidRowsdf)"
   ]
  },
  {
   "cell_type": "code",
   "execution_count": null,
   "metadata": {
    "application/vnd.databricks.v1+cell": {
     "cellMetadata": {
      "byteLimit": 2048000,
      "rowLimit": 10000
     },
     "inputWidgets": {},
     "nuid": "621c398a-db69-46bf-b027-710e669b5ec2",
     "showTitle": false,
     "title": ""
    }
   },
   "outputs": [],
   "source": [
    "if invalidRowsdf.count() > 0 :\n",
    "    errorFlg = True\n",
    "\n",
    "if errorFlg:\n",
    "    dbutils.fs.mv('/mnt/sales/landing/{}'.format(filename),'/mnt/sales/discarded')\n",
    "    dbutils.notebook.exit('{\"errorFlg\":\"true\",\"errormsg\":\"order_status is not valid\"}')\n",
    "else:\n",
    "    dbutils.fs.mv('/mnt/sales/landing/{}'.format(filename),'/mnt/sales/staging')\n",
    "    #dbutils.notebook.exit('{\"errorFlg\":\"false\",\"errormsg\":\"condition: Pass\"}')"
   ]
  },
  {
   "cell_type": "code",
   "execution_count": null,
   "metadata": {
    "application/vnd.databricks.v1+cell": {
     "cellMetadata": {
      "byteLimit": 2048000,
      "rowLimit": 10000
     },
     "inputWidgets": {},
     "nuid": "861d0588-1302-4d50-b113-db9c680d390d",
     "showTitle": false,
     "title": ""
    }
   },
   "outputs": [],
   "source": [
    "orderItemDf = spark.read.csv('/mnt/sales/order_items/order_items.txt',inferSchema=True,header=True)\n",
    "orderItemDf.createOrReplaceTempView(\"order_items\")"
   ]
  },
  {
   "cell_type": "code",
   "execution_count": null,
   "metadata": {
    "application/vnd.databricks.v1+cell": {
     "cellMetadata": {
      "byteLimit": 2048000,
      "rowLimit": 10000
     },
     "inputWidgets": {},
     "nuid": "65c8b40b-6911-4926-8f1d-4fe38eb787fa",
     "showTitle": false,
     "title": ""
    }
   },
   "outputs": [],
   "source": [
    "customer_df = spark.read.jdbc(url =connectionUrl,table='dbo.customers',properties=connectionProperties)\n",
    "display(customer_df)\n",
    "customer_df.createOrReplaceTempView(\"customers\")"
   ]
  },
  {
   "cell_type": "code",
   "execution_count": null,
   "metadata": {
    "application/vnd.databricks.v1+cell": {
     "cellMetadata": {},
     "inputWidgets": {},
     "nuid": "926f148a-f810-4cfa-8020-18b28b007115",
     "showTitle": false,
     "title": ""
    }
   },
   "outputs": [],
   "source": [
    "orders_df = spark.read.csv(\"/mnt/sales/staging/{}\".format(filename),inferSchema=True,header=True)\n",
    "orders_df.createOrReplaceTempView(\"orders\")"
   ]
  },
  {
   "cell_type": "code",
   "execution_count": null,
   "metadata": {
    "application/vnd.databricks.v1+cell": {
     "cellMetadata": {
      "byteLimit": 2048000,
      "rowLimit": 10000
     },
     "inputWidgets": {},
     "nuid": "ee213124-1941-4ef5-ab75-6c01420ab84e",
     "showTitle": false,
     "title": ""
    }
   },
   "outputs": [],
   "source": [
    "result1_df = spark.sql(\"select customers.customer_id,customers.customer_fname,customers.customer_lname,customers.customer_city,customers.customer_state,customers.customer_zipcode,count(order_id) as num_orders_placed,round(sum(order_item_subtotal),2) as total_amount from customers,orders,order_items where customers.customer_id = orders.customer_id and orders.order_id=order_items.order_item_order_id group by customers.customer_id,customers.customer_fname,customers.customer_lname,customers.customer_city,customers.customer_state,customers.customer_zipcode order by total_amount desc\")"
   ]
  },
  {
   "cell_type": "code",
   "execution_count": null,
   "metadata": {
    "application/vnd.databricks.v1+cell": {
     "cellMetadata": {
      "byteLimit": 2048000,
      "rowLimit": 10000
     },
     "inputWidgets": {},
     "nuid": "9ad9b6c1-3307-4241-a59a-98868924b698",
     "showTitle": false,
     "title": ""
    }
   },
   "outputs": [],
   "source": [
    "display(result1_df) "
   ]
  },
  {
   "cell_type": "code",
   "execution_count": null,
   "metadata": {
    "application/vnd.databricks.v1+cell": {
     "cellMetadata": {},
     "inputWidgets": {},
     "nuid": "a1fd2e44-5642-4fe1-bdd2-3cc3f0c920f6",
     "showTitle": false,
     "title": ""
    }
   },
   "outputs": [],
   "source": [
    "result1_df.write.jdbc(url =connectionUrl,table='dbo.sales_reporting',properties=connectionProperties,mode = 'overwrite')"
   ]
  }
 ],
 "metadata": {
  "application/vnd.databricks.v1+notebook": {
   "dashboards": [],
   "language": "python",
   "notebookMetadata": {
    "mostRecentlyExecutedCommandWithImplicitDF": {
     "commandId": 968583394208423,
     "dataframes": [
      "_sqldf"
     ]
    },
    "pythonIndentUnit": 4
   },
   "notebookName": "Sales_project -Dynamic",
   "widgets": {}
  },
  "language_info": {
   "name": "python"
  }
 },
 "nbformat": 4,
 "nbformat_minor": 0
}
